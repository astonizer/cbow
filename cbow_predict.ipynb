{
 "cells": [
  {
   "cell_type": "code",
   "execution_count": 3,
   "id": "943e2db9-87df-4733-b67e-f40433152838",
   "metadata": {},
   "outputs": [
    {
     "data": {
      "text/plain": [
       "OrderedDict([('linear1.weight',\n",
       "              tensor([[ 1.3356,  2.0179,  0.6696,  ...,  2.7504,  2.3757,  1.4298],\n",
       "                      [ 1.1445,  2.1191,  1.7123,  ..., -0.8261, -0.3514, -0.4124],\n",
       "                      [-1.0139, -2.5298, -2.4429,  ...,  1.3998,  1.4179, -0.1805],\n",
       "                      [ 0.1485,  0.4465,  1.0431,  ...,  0.7520,  0.6596,  0.4087],\n",
       "                      [ 0.3828,  1.3517,  2.2198,  ..., -1.8544, -1.9071, -0.7468]])),\n",
       "             ('linear2.weight',\n",
       "              tensor([[ 0.0063,  0.1954,  0.0195,  0.2265, -0.0124],\n",
       "                      [-0.3043, -0.2069, -0.2456, -0.2312,  0.0446],\n",
       "                      [ 3.0063,  2.4371, -3.0272,  0.4734,  3.0188],\n",
       "                      ...,\n",
       "                      [ 4.7883, -1.1781,  1.1324,  0.7263, -2.5136],\n",
       "                      [-0.0838,  0.1339,  0.2105,  0.2763, -0.0434],\n",
       "                      [ 0.1922, -0.2368,  0.1076, -0.0787,  0.1972]])),\n",
       "             ('linear2.bias',\n",
       "              tensor([-0.4940, -0.6440, -0.3852,  ...,  0.7254, -0.4776, -0.3976]))])"
      ]
     },
     "execution_count": 3,
     "metadata": {},
     "output_type": "execute_result"
    }
   ],
   "source": [
    "import torch\n",
    "\n",
    "model = torch.load('cbow.pth', weights_only=False)\n",
    "model"
   ]
  },
  {
   "cell_type": "code",
   "execution_count": 16,
   "id": "6c3010b1-1feb-4a30-a134-5a5336324841",
   "metadata": {},
   "outputs": [
    {
     "data": {
      "text/plain": [
       "tensor([[ 1.3356,  1.1445, -1.0139,  0.1485,  0.3828],\n",
       "        [ 2.0179,  2.1191, -2.5298,  0.4465,  1.3517],\n",
       "        [ 0.6696,  1.7123, -2.4429,  1.0431,  2.2198],\n",
       "        ...,\n",
       "        [ 2.7504, -0.8261,  1.3998,  0.7520, -1.8544],\n",
       "        [ 2.3757, -0.3514,  1.4179,  0.6596, -1.9071],\n",
       "        [ 1.4298, -0.4124, -0.1805,  0.4087, -0.7468]])"
      ]
     },
     "execution_count": 16,
     "metadata": {},
     "output_type": "execute_result"
    }
   ],
   "source": [
    "embeddings = model['linear1.weight']\n",
    "embeddings = embeddings.transpose(0, 1)\n",
    "embeddings"
   ]
  },
  {
   "cell_type": "code",
   "execution_count": 11,
   "id": "4cbb3f53-5a08-434b-943f-b477cb57e97c",
   "metadata": {},
   "outputs": [],
   "source": [
    "import pickle\n",
    "\n",
    "with open('word2ind_map.pkl', 'rb') as file:\n",
    "    word2ind = pickle.load(file)\n",
    "with open('ind2word_map.pkl', 'rb') as file:\n",
    "    ind2word = pickle.load(file)"
   ]
  },
  {
   "cell_type": "code",
   "execution_count": 17,
   "id": "6613d0da-0d6f-48fa-bd2f-ce9c2a66f2d2",
   "metadata": {},
   "outputs": [],
   "source": [
    "def get_word_embedding(word):\n",
    "    word_ind = word2ind[word]\n",
    "    return embeddings[word_ind]"
   ]
  },
  {
   "cell_type": "code",
   "execution_count": 19,
   "id": "71361896-41bf-41b6-96ce-d557e85a8b50",
   "metadata": {},
   "outputs": [],
   "source": [
    "def cosine_similarity(word1, word2):\n",
    "    vector1 = get_word_embedding(word1)\n",
    "    vector2 = get_word_embedding(word2)\n",
    "    return torch.dot(vector1, vector2) / (torch.norm(vector1) * torch.norm(vector2))"
   ]
  },
  {
   "cell_type": "code",
   "execution_count": 18,
   "id": "19135570-ad37-40dc-8f07-bd2db32d9116",
   "metadata": {},
   "outputs": [],
   "source": [
    "word1 = \"beautiful\"\n",
    "embedding1 = get_word_embedding(word1)"
   ]
  },
  {
   "cell_type": "code",
   "execution_count": 34,
   "id": "945058b9-cb1d-4a6f-a2eb-0070f149be98",
   "metadata": {},
   "outputs": [],
   "source": [
    "word2 = \"ugly\"\n",
    "embedding2 = get_word_embedding(word2)"
   ]
  },
  {
   "cell_type": "code",
   "execution_count": 35,
   "id": "e61ca583-6af9-41fa-bc45-6e5afb5c97c3",
   "metadata": {},
   "outputs": [
    {
     "name": "stdout",
     "output_type": "stream",
     "text": [
      "tensor(-0.3306)\n"
     ]
    }
   ],
   "source": [
    "print(cosine_similarity(word1, word2))"
   ]
  },
  {
   "cell_type": "code",
   "execution_count": null,
   "id": "f99acb4f-302c-4103-9259-aef9c002e1a6",
   "metadata": {},
   "outputs": [],
   "source": []
  }
 ],
 "metadata": {
  "kernelspec": {
   "display_name": "Python 3 (ipykernel)",
   "language": "python",
   "name": "python3"
  },
  "language_info": {
   "codemirror_mode": {
    "name": "ipython",
    "version": 3
   },
   "file_extension": ".py",
   "mimetype": "text/x-python",
   "name": "python",
   "nbconvert_exporter": "python",
   "pygments_lexer": "ipython3",
   "version": "3.12.7"
  }
 },
 "nbformat": 4,
 "nbformat_minor": 5
}
