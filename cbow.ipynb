{
 "cells": [
  {
   "cell_type": "code",
   "execution_count": 119,
   "metadata": {},
   "outputs": [
    {
     "name": "stderr",
     "output_type": "stream",
     "text": [
      "[nltk_data] Error loading punkt: <urlopen error [SSL:\n",
      "[nltk_data]     CERTIFICATE_VERIFY_FAILED] certificate verify failed:\n",
      "[nltk_data]     self-signed certificate in certificate chain\n",
      "[nltk_data]     (_ssl.c:1000)>\n"
     ]
    }
   ],
   "source": [
    "import numpy as np\n",
    "import nltk\n",
    "nltk.download('punkt')\n",
    "\n",
    "from nltk.tokenize import word_tokenize"
   ]
  },
  {
   "cell_type": "code",
   "execution_count": 120,
   "metadata": {},
   "outputs": [
    {
     "name": "stdout",
     "output_type": "stream",
     "text": [
      "O for a Muse of fire, that would ascend\n",
      "The brightest heaven of invention,\n",
      "A kingdom for a stage, pr\n"
     ]
    }
   ],
   "source": [
    "with open(\"input.txt\") as file:\n",
    "    data = file.read()\n",
    "print(data[:100])"
   ]
  },
  {
   "cell_type": "code",
   "execution_count": 122,
   "metadata": {},
   "outputs": [
    {
     "data": {
      "text/plain": [
       "['\\n',\n",
       " ' ',\n",
       " '!',\n",
       " '\"',\n",
       " \"'\",\n",
       " '(',\n",
       " ')',\n",
       " ',',\n",
       " '-',\n",
       " '.',\n",
       " '0',\n",
       " '1',\n",
       " '2',\n",
       " '3',\n",
       " '4',\n",
       " '5',\n",
       " '6',\n",
       " '7',\n",
       " '8',\n",
       " '9',\n",
       " ':',\n",
       " ';',\n",
       " '<',\n",
       " '>',\n",
       " '?',\n",
       " 'A',\n",
       " 'B',\n",
       " 'C',\n",
       " 'D',\n",
       " 'E',\n",
       " 'F',\n",
       " 'G',\n",
       " 'H',\n",
       " 'I',\n",
       " 'J',\n",
       " 'K',\n",
       " 'L',\n",
       " 'M',\n",
       " 'N',\n",
       " 'O',\n",
       " 'P',\n",
       " 'Q',\n",
       " 'R',\n",
       " 'S',\n",
       " 'T',\n",
       " 'U',\n",
       " 'V',\n",
       " 'W',\n",
       " 'X',\n",
       " 'Y',\n",
       " 'Z',\n",
       " '[',\n",
       " ']',\n",
       " 'a',\n",
       " 'b',\n",
       " 'c',\n",
       " 'd',\n",
       " 'e',\n",
       " 'f',\n",
       " 'g',\n",
       " 'h',\n",
       " 'i',\n",
       " 'j',\n",
       " 'k',\n",
       " 'l',\n",
       " 'm',\n",
       " 'n',\n",
       " 'o',\n",
       " 'p',\n",
       " 'q',\n",
       " 'r',\n",
       " 's',\n",
       " 't',\n",
       " 'u',\n",
       " 'v',\n",
       " 'w',\n",
       " 'x',\n",
       " 'y',\n",
       " 'z']"
      ]
     },
     "execution_count": 122,
     "metadata": {},
     "output_type": "execute_result"
    }
   ],
   "source": [
    "sorted(set(list(data)))"
   ]
  },
  {
   "cell_type": "code",
   "execution_count": 123,
   "metadata": {},
   "outputs": [
    {
     "name": "stdout",
     "output_type": "stream",
     "text": [
      "5774\n"
     ]
    }
   ],
   "source": [
    "import re\n",
    "\n",
    "data = re.sub(r'!\"(),-:;<>?', '.', data)\n",
    "data = word_tokenize(data)\n",
    "data = [word.lower() for word in data if word.isalpha() or word == '.']\n",
    "data = list(set(data))\n",
    "\n",
    "print(len(data))"
   ]
  },
  {
   "cell_type": "code",
   "execution_count": 124,
   "metadata": {},
   "outputs": [],
   "source": [
    "word2ind = {word: i for i, word in enumerate(data)}\n",
    "ind2word = {i: word for i, word in enumerate(data)}"
   ]
  },
  {
   "cell_type": "code",
   "execution_count": 125,
   "metadata": {},
   "outputs": [
    {
     "name": "stdout",
     "output_type": "stream",
     "text": [
      "Vocabulary size: 5774\n"
     ]
    }
   ],
   "source": [
    "V = len(word2ind)\n",
    "print(f'Vocabulary size: {V}')"
   ]
  },
  {
   "cell_type": "code",
   "execution_count": 126,
   "metadata": {},
   "outputs": [],
   "source": [
    "import torch\n",
    "import torch.nn as nn\n",
    "import torch.optim as optim\n",
    "\n",
    "class CBOW(nn.Module):\n",
    "    def __init__(self, input_dim, hidden_dim):\n",
    "        super(CBOW, self).__init__()\n",
    "        self.linear1 = nn.Linear(input_dim, hidden_dim, bias=False)\n",
    "        self.linear2 = nn.Linear(hidden_dim, input_dim)\n",
    "        # no need of softmax since cross entropy loss does it internally\n",
    "\n",
    "    def forward(self, x):\n",
    "        x = self.linear1(x)\n",
    "        x = self.linear2(x)\n",
    "        return x"
   ]
  },
  {
   "cell_type": "code",
   "execution_count": 127,
   "metadata": {},
   "outputs": [],
   "source": [
    "def get_data(words_data, context_size):\n",
    "    input_data = []\n",
    "    for i in range(context_size, len(words_data) - context_size):\n",
    "        target = words_data[i]\n",
    "        context = []\n",
    "        for j in range(i-context_size, i):\n",
    "            context.append(words_data[j])\n",
    "        for j in range(i+1, i+context_size+1):\n",
    "            context.append(words_data[j])\n",
    "        input_data.append((context, target))\n",
    "    return input_data"
   ]
  },
  {
   "cell_type": "code",
   "execution_count": 128,
   "metadata": {},
   "outputs": [],
   "source": [
    "def convert_to_ids(words_data, context_size):\n",
    "    input_data = get_data(words_data, context_size)\n",
    "    \n",
    "    train_data = []\n",
    "    target_data = []\n",
    "\n",
    "    for context, target in input_data:\n",
    "        train_tensor = torch.zeros(V)\n",
    "        target_tensor = torch.zeros(1, dtype=torch.long) # assigned as a single vector and not one hot\n",
    "\n",
    "        for word in context:\n",
    "            train_tensor[word2ind[word]] += 1\n",
    "        target_tensor[0] = word2ind[target] # assign the index of the target word\n",
    "\n",
    "        train_tensor = train_tensor.view(1, -1)\n",
    "        \n",
    "        yield train_tensor, target_tensor"
   ]
  },
  {
   "cell_type": "code",
   "execution_count": 129,
   "metadata": {},
   "outputs": [
    {
     "name": "stdout",
     "output_type": "stream",
     "text": [
      "tensor([[1., 1., 0.,  ..., 0., 0., 0.]])\n",
      "tensor([2])\n",
      "tensor([[0., 1., 1.,  ..., 0., 0., 0.]])\n",
      "tensor([3])\n",
      "tensor([[0., 0., 1.,  ..., 0., 0., 0.]])\n",
      "tensor([4])\n"
     ]
    }
   ],
   "source": [
    "for train_tensor, target_tensor in convert_to_ids(data[:7], 2):\n",
    "    print(train_tensor)\n",
    "    print(target_tensor)"
   ]
  },
  {
   "cell_type": "code",
   "execution_count": 136,
   "metadata": {},
   "outputs": [],
   "source": [
    "hidden_dim = 5\n",
    "\n",
    "model = CBOW(V, hidden_dim)\n",
    "\n",
    "criterion = nn.CrossEntropyLoss()\n",
    "optimizer = optim.SGD(model.parameters(), lr=0.01)"
   ]
  },
  {
   "cell_type": "code",
   "execution_count": 137,
   "metadata": {},
   "outputs": [
    {
     "name": "stdout",
     "output_type": "stream",
     "text": [
      "Epoch 10, loss: 8.5310\n",
      "Epoch 20, loss: 8.3457\n",
      "Epoch 30, loss: 8.1103\n",
      "Epoch 40, loss: 7.8061\n",
      "Epoch 50, loss: 7.4410\n",
      "Epoch 60, loss: 7.0529\n",
      "Epoch 70, loss: 6.6780\n",
      "Epoch 80, loss: 6.3270\n",
      "Epoch 90, loss: 6.0022\n",
      "Epoch 100, loss: 5.7072\n",
      "Epoch 110, loss: 5.4424\n",
      "Epoch 120, loss: 5.2048\n",
      "Epoch 130, loss: 4.9900\n",
      "Epoch 140, loss: 4.7948\n",
      "Epoch 150, loss: 4.6162\n",
      "Epoch 160, loss: 4.4518\n",
      "Epoch 170, loss: 4.2997\n",
      "Epoch 180, loss: 4.1586\n",
      "Epoch 190, loss: 4.0271\n",
      "Epoch 200, loss: 3.9044\n",
      "Epoch 210, loss: 3.7896\n",
      "Epoch 220, loss: 3.6821\n",
      "Epoch 230, loss: 3.5812\n",
      "Epoch 240, loss: 3.4865\n",
      "Epoch 250, loss: 3.3975\n",
      "Epoch 260, loss: 3.3141\n",
      "Epoch 270, loss: 3.2359\n",
      "Epoch 280, loss: 3.1625\n",
      "Epoch 290, loss: 3.0937\n",
      "Epoch 300, loss: 3.0290\n",
      "Epoch 310, loss: 2.9683\n",
      "Epoch 320, loss: 2.9110\n",
      "Epoch 330, loss: 2.8570\n",
      "Epoch 340, loss: 2.8057\n",
      "Epoch 350, loss: 2.7570\n",
      "Epoch 360, loss: 2.7106\n",
      "Epoch 370, loss: 2.6661\n",
      "Epoch 380, loss: 2.6233\n",
      "Epoch 390, loss: 2.5820\n",
      "Epoch 400, loss: 2.5421\n",
      "Epoch 410, loss: 2.5034\n",
      "Epoch 420, loss: 2.4658\n",
      "Epoch 430, loss: 2.4292\n",
      "Epoch 440, loss: 2.3935\n",
      "Epoch 450, loss: 2.3586\n",
      "Epoch 460, loss: 2.3245\n",
      "Epoch 470, loss: 2.2911\n",
      "Epoch 480, loss: 2.2583\n",
      "Epoch 490, loss: 2.2258\n",
      "Epoch 500, loss: 2.1936\n",
      "Epoch 510, loss: 2.1614\n",
      "Epoch 520, loss: 2.1291\n",
      "Epoch 530, loss: 2.0963\n",
      "Epoch 540, loss: 2.0628\n",
      "Epoch 550, loss: 2.0284\n",
      "Epoch 560, loss: 1.9928\n",
      "Epoch 570, loss: 1.9559\n",
      "Epoch 580, loss: 1.9173\n",
      "Epoch 590, loss: 1.8770\n",
      "Epoch 600, loss: 1.8348\n",
      "Epoch 610, loss: 1.7907\n",
      "Epoch 620, loss: 1.7448\n",
      "Epoch 630, loss: 1.6973\n",
      "Epoch 640, loss: 1.6482\n",
      "Epoch 650, loss: 1.5979\n",
      "Epoch 660, loss: 1.5466\n",
      "Epoch 670, loss: 1.4948\n",
      "Epoch 680, loss: 1.4427\n",
      "Epoch 690, loss: 1.3908\n",
      "Epoch 700, loss: 1.3393\n",
      "Epoch 710, loss: 1.2886\n",
      "Epoch 720, loss: 1.2389\n",
      "Epoch 730, loss: 1.1906\n",
      "Epoch 740, loss: 1.1436\n",
      "Epoch 750, loss: 1.0983\n",
      "Epoch 760, loss: 1.0546\n",
      "Epoch 770, loss: 1.0127\n",
      "Epoch 780, loss: 0.9726\n",
      "Epoch 790, loss: 0.9342\n",
      "Epoch 800, loss: 0.8976\n",
      "Epoch 810, loss: 0.8627\n",
      "Epoch 820, loss: 0.8295\n",
      "Epoch 830, loss: 0.7979\n",
      "Epoch 840, loss: 0.7678\n",
      "Epoch 850, loss: 0.7392\n",
      "Epoch 860, loss: 0.7120\n",
      "Epoch 870, loss: 0.6862\n",
      "Epoch 880, loss: 0.6616\n",
      "Epoch 890, loss: 0.6382\n",
      "Epoch 900, loss: 0.6159\n",
      "Epoch 910, loss: 0.5947\n",
      "Epoch 920, loss: 0.5745\n",
      "Epoch 930, loss: 0.5553\n",
      "Epoch 940, loss: 0.5369\n",
      "Epoch 950, loss: 0.5194\n",
      "Epoch 960, loss: 0.5026\n",
      "Epoch 970, loss: 0.4866\n",
      "Epoch 980, loss: 0.4714\n",
      "Epoch 990, loss: 0.4568\n",
      "Epoch 1000, loss: 0.4428\n",
      "Epoch 1010, loss: 0.4294\n",
      "Epoch 1020, loss: 0.4166\n"
     ]
    },
    {
     "ename": "KeyboardInterrupt",
     "evalue": "",
     "output_type": "error",
     "traceback": [
      "\u001b[0;31m---------------------------------------------------------------------------\u001b[0m",
      "\u001b[0;31mKeyboardInterrupt\u001b[0m                         Traceback (most recent call last)",
      "Cell \u001b[0;32mIn[137], line 15\u001b[0m\n\u001b[1;32m     12\u001b[0m     losses\u001b[38;5;241m.\u001b[39mappend(loss\u001b[38;5;241m.\u001b[39mitem())\n\u001b[1;32m     14\u001b[0m     optimizer\u001b[38;5;241m.\u001b[39mzero_grad()\n\u001b[0;32m---> 15\u001b[0m     \u001b[43mloss\u001b[49m\u001b[38;5;241;43m.\u001b[39;49m\u001b[43mbackward\u001b[49m\u001b[43m(\u001b[49m\u001b[43m)\u001b[49m\n\u001b[1;32m     16\u001b[0m     optimizer\u001b[38;5;241m.\u001b[39mstep()\n\u001b[1;32m     18\u001b[0m epoch_losses[epoch] \u001b[38;5;241m=\u001b[39m np\u001b[38;5;241m.\u001b[39mmean(losses)\n",
      "File \u001b[0;32m~/anaconda3/envs/cbow/lib/python3.12/site-packages/torch/_tensor.py:581\u001b[0m, in \u001b[0;36mTensor.backward\u001b[0;34m(self, gradient, retain_graph, create_graph, inputs)\u001b[0m\n\u001b[1;32m    571\u001b[0m \u001b[38;5;28;01mif\u001b[39;00m has_torch_function_unary(\u001b[38;5;28mself\u001b[39m):\n\u001b[1;32m    572\u001b[0m     \u001b[38;5;28;01mreturn\u001b[39;00m handle_torch_function(\n\u001b[1;32m    573\u001b[0m         Tensor\u001b[38;5;241m.\u001b[39mbackward,\n\u001b[1;32m    574\u001b[0m         (\u001b[38;5;28mself\u001b[39m,),\n\u001b[0;32m   (...)\u001b[0m\n\u001b[1;32m    579\u001b[0m         inputs\u001b[38;5;241m=\u001b[39minputs,\n\u001b[1;32m    580\u001b[0m     )\n\u001b[0;32m--> 581\u001b[0m \u001b[43mtorch\u001b[49m\u001b[38;5;241;43m.\u001b[39;49m\u001b[43mautograd\u001b[49m\u001b[38;5;241;43m.\u001b[39;49m\u001b[43mbackward\u001b[49m\u001b[43m(\u001b[49m\n\u001b[1;32m    582\u001b[0m \u001b[43m    \u001b[49m\u001b[38;5;28;43mself\u001b[39;49m\u001b[43m,\u001b[49m\u001b[43m \u001b[49m\u001b[43mgradient\u001b[49m\u001b[43m,\u001b[49m\u001b[43m \u001b[49m\u001b[43mretain_graph\u001b[49m\u001b[43m,\u001b[49m\u001b[43m \u001b[49m\u001b[43mcreate_graph\u001b[49m\u001b[43m,\u001b[49m\u001b[43m \u001b[49m\u001b[43minputs\u001b[49m\u001b[38;5;241;43m=\u001b[39;49m\u001b[43minputs\u001b[49m\n\u001b[1;32m    583\u001b[0m \u001b[43m\u001b[49m\u001b[43m)\u001b[49m\n",
      "File \u001b[0;32m~/anaconda3/envs/cbow/lib/python3.12/site-packages/torch/autograd/__init__.py:347\u001b[0m, in \u001b[0;36mbackward\u001b[0;34m(tensors, grad_tensors, retain_graph, create_graph, grad_variables, inputs)\u001b[0m\n\u001b[1;32m    342\u001b[0m     retain_graph \u001b[38;5;241m=\u001b[39m create_graph\n\u001b[1;32m    344\u001b[0m \u001b[38;5;66;03m# The reason we repeat the same comment below is that\u001b[39;00m\n\u001b[1;32m    345\u001b[0m \u001b[38;5;66;03m# some Python versions print out the first line of a multi-line function\u001b[39;00m\n\u001b[1;32m    346\u001b[0m \u001b[38;5;66;03m# calls in the traceback and some print out the last line\u001b[39;00m\n\u001b[0;32m--> 347\u001b[0m \u001b[43m_engine_run_backward\u001b[49m\u001b[43m(\u001b[49m\n\u001b[1;32m    348\u001b[0m \u001b[43m    \u001b[49m\u001b[43mtensors\u001b[49m\u001b[43m,\u001b[49m\n\u001b[1;32m    349\u001b[0m \u001b[43m    \u001b[49m\u001b[43mgrad_tensors_\u001b[49m\u001b[43m,\u001b[49m\n\u001b[1;32m    350\u001b[0m \u001b[43m    \u001b[49m\u001b[43mretain_graph\u001b[49m\u001b[43m,\u001b[49m\n\u001b[1;32m    351\u001b[0m \u001b[43m    \u001b[49m\u001b[43mcreate_graph\u001b[49m\u001b[43m,\u001b[49m\n\u001b[1;32m    352\u001b[0m \u001b[43m    \u001b[49m\u001b[43minputs\u001b[49m\u001b[43m,\u001b[49m\n\u001b[1;32m    353\u001b[0m \u001b[43m    \u001b[49m\u001b[43mallow_unreachable\u001b[49m\u001b[38;5;241;43m=\u001b[39;49m\u001b[38;5;28;43;01mTrue\u001b[39;49;00m\u001b[43m,\u001b[49m\n\u001b[1;32m    354\u001b[0m \u001b[43m    \u001b[49m\u001b[43maccumulate_grad\u001b[49m\u001b[38;5;241;43m=\u001b[39;49m\u001b[38;5;28;43;01mTrue\u001b[39;49;00m\u001b[43m,\u001b[49m\n\u001b[1;32m    355\u001b[0m \u001b[43m\u001b[49m\u001b[43m)\u001b[49m\n",
      "File \u001b[0;32m~/anaconda3/envs/cbow/lib/python3.12/site-packages/torch/autograd/graph.py:825\u001b[0m, in \u001b[0;36m_engine_run_backward\u001b[0;34m(t_outputs, *args, **kwargs)\u001b[0m\n\u001b[1;32m    823\u001b[0m     unregister_hooks \u001b[38;5;241m=\u001b[39m _register_logging_hooks_on_whole_graph(t_outputs)\n\u001b[1;32m    824\u001b[0m \u001b[38;5;28;01mtry\u001b[39;00m:\n\u001b[0;32m--> 825\u001b[0m     \u001b[38;5;28;01mreturn\u001b[39;00m \u001b[43mVariable\u001b[49m\u001b[38;5;241;43m.\u001b[39;49m\u001b[43m_execution_engine\u001b[49m\u001b[38;5;241;43m.\u001b[39;49m\u001b[43mrun_backward\u001b[49m\u001b[43m(\u001b[49m\u001b[43m  \u001b[49m\u001b[38;5;66;43;03m# Calls into the C++ engine to run the backward pass\u001b[39;49;00m\n\u001b[1;32m    826\u001b[0m \u001b[43m        \u001b[49m\u001b[43mt_outputs\u001b[49m\u001b[43m,\u001b[49m\u001b[43m \u001b[49m\u001b[38;5;241;43m*\u001b[39;49m\u001b[43margs\u001b[49m\u001b[43m,\u001b[49m\u001b[43m \u001b[49m\u001b[38;5;241;43m*\u001b[39;49m\u001b[38;5;241;43m*\u001b[39;49m\u001b[43mkwargs\u001b[49m\n\u001b[1;32m    827\u001b[0m \u001b[43m    \u001b[49m\u001b[43m)\u001b[49m  \u001b[38;5;66;03m# Calls into the C++ engine to run the backward pass\u001b[39;00m\n\u001b[1;32m    828\u001b[0m \u001b[38;5;28;01mfinally\u001b[39;00m:\n\u001b[1;32m    829\u001b[0m     \u001b[38;5;28;01mif\u001b[39;00m attach_logging_hooks:\n",
      "\u001b[0;31mKeyboardInterrupt\u001b[0m: "
     ]
    }
   ],
   "source": [
    "epochs = 1020\n",
    "\n",
    "epoch_losses = {}\n",
    "\n",
    "for epoch in range(epochs):\n",
    "    \n",
    "    losses = []\n",
    "    \n",
    "    for X, y in convert_to_ids(data, 2):\n",
    "        outputs = model(X)\n",
    "        loss = criterion(outputs, y)\n",
    "        losses.append(loss.item())\n",
    "    \n",
    "        optimizer.zero_grad()\n",
    "        loss.backward()\n",
    "        optimizer.step()\n",
    "        \n",
    "    epoch_losses[epoch] = np.mean(losses)\n",
    "    \n",
    "    if (epoch + 1) % 10 == 0:\n",
    "        print(f'Epoch {epoch+1}, loss: {loss.item():.4f}')"
   ]
  },
  {
   "cell_type": "code",
   "execution_count": 138,
   "metadata": {},
   "outputs": [
    {
     "data": {
      "text/plain": [
       "<matplotlib.legend.Legend at 0x10af9b2f0>"
      ]
     },
     "execution_count": 138,
     "metadata": {},
     "output_type": "execute_result"
    },
    {
     "data": {
      "image/png": "[encoded data removed]",
      "text/plain": [
       "<Figure size 640x480 with 1 Axes>"
      ]
     },
     "metadata": {},
     "output_type": "display_data"
    }
   ],
   "source": [
    "import matplotlib.pyplot as plt\n",
    "\n",
    "epochs_range = np.arange(1, 1020 + 1)\n",
    "loss_values = [epoch_losses[e] for e in epochs_range - 1]\n",
    "\n",
    "fig = plt.figure()\n",
    "fig.suptitle('Epoch/Losses', fontsize=20)\n",
    "plt.plot(epochs_range, loss_values, label=\"Training Loss\")\n",
    "plt.xlabel('Epochs', fontsize=12)\n",
    "plt.ylabel('Losses', fontsize=12)\n",
    "plt.legend()"
   ]
  },
  {
   "cell_type": "code",
   "execution_count": 142,
   "metadata": {},
   "outputs": [
    {
     "name": "stdout",
     "output_type": "stream",
     "text": [
      "Learned weights from the CBOW model:\n",
      "\n",
      "linear1.weight \t torch.Size([5, 5774])\n",
      "linear2.weight \t torch.Size([5774, 5])\n",
      "linear2.bias \t torch.Size([5774])\n"
     ]
    }
   ],
   "source": [
    "print('Learned weights from the CBOW model:\\n')\n",
    "\n",
    "for param_tensor in model.state_dict():\n",
    "    print(param_tensor, \"\\t\", model.state_dict()[param_tensor].size())"
   ]
  },
  {
   "cell_type": "code",
   "execution_count": 143,
   "metadata": {},
   "outputs": [
    {
     "name": "stdout",
     "output_type": "stream",
     "text": [
      "Optimizer's state_dict:\n",
      "\n",
      "state \t {}\n",
      "param_groups \t [{'lr': 0.01, 'momentum': 0, 'dampening': 0, 'weight_decay': 0, 'nesterov': False, 'maximize': False, 'foreach': None, 'differentiable': False, 'fused': None, 'params': [0, 1, 2]}]\n"
     ]
    }
   ],
   "source": [
    "print(\"Optimizer's state_dict:\\n\")\n",
    "for var_name in optimizer.state_dict():\n",
    "    print(var_name, \"\\t\", optimizer.state_dict()[var_name])"
   ]
  },
  {
   "cell_type": "code",
   "execution_count": 144,
   "metadata": {},
   "outputs": [],
   "source": [
    "torch.save(model.state_dict(), 'cbow.pth')"
   ]
  },
  {
   "cell_type": "code",
   "execution_count": null,
   "metadata": {},
   "outputs": [],
   "source": []
  }
 ],
 "metadata": {
  "kernelspec": {
   "display_name": "Python 3 (ipykernel)",
   "language": "python",
   "name": "python3"
  },
  "language_info": {
   "codemirror_mode": {
    "name": "ipython",
    "version": 3
   },
   "file_extension": ".py",
   "mimetype": "text/x-python",
   "name": "python",
   "nbconvert_exporter": "python",
   "pygments_lexer": "ipython3",
   "version": "3.12.7"
  }
 },
 "nbformat": 4,
 "nbformat_minor": 4
}
