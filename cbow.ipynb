{
 "cells": [
  {
   "cell_type": "code",
   "execution_count": 1,
   "metadata": {},
   "outputs": [
    {
     "name": "stderr",
     "output_type": "stream",
     "text": [
      "[nltk_data] Error loading punkt: <urlopen error [SSL:\n",
      "[nltk_data]     CERTIFICATE_VERIFY_FAILED] certificate verify failed:\n",
      "[nltk_data]     self-signed certificate in certificate chain\n",
      "[nltk_data]     (_ssl.c:1000)>\n"
     ]
    }
   ],
   "source": [
    "import numpy as np\n",
    "import nltk\n",
    "nltk.download('punkt')\n",
    "\n",
    "from nltk.tokenize import word_tokenize"
   ]
  },
  {
   "cell_type": "code",
   "execution_count": 2,
   "metadata": {},
   "outputs": [
    {
     "name": "stdout",
     "output_type": "stream",
     "text": [
      "O for a Muse of fire, that would ascend\n",
      "The brightest heaven of invention,\n",
      "A kingdom for a stage, pr\n"
     ]
    }
   ],
   "source": [
    "with open(\"input.txt\") as file:\n",
    "    data = file.read()\n",
    "print(data[:100])"
   ]
  },
  {
   "cell_type": "code",
   "execution_count": 3,
   "metadata": {},
   "outputs": [
    {
     "data": {
      "text/plain": [
       "['\\n',\n",
       " ' ',\n",
       " '!',\n",
       " '\"',\n",
       " \"'\",\n",
       " '(',\n",
       " ')',\n",
       " ',',\n",
       " '-',\n",
       " '.',\n",
       " '0',\n",
       " '1',\n",
       " '2',\n",
       " '3',\n",
       " '4',\n",
       " '5',\n",
       " '6',\n",
       " '7',\n",
       " '8',\n",
       " '9',\n",
       " ':',\n",
       " ';',\n",
       " '<',\n",
       " '>',\n",
       " '?',\n",
       " 'A',\n",
       " 'B',\n",
       " 'C',\n",
       " 'D',\n",
       " 'E',\n",
       " 'F',\n",
       " 'G',\n",
       " 'H',\n",
       " 'I',\n",
       " 'J',\n",
       " 'K',\n",
       " 'L',\n",
       " 'M',\n",
       " 'N',\n",
       " 'O',\n",
       " 'P',\n",
       " 'Q',\n",
       " 'R',\n",
       " 'S',\n",
       " 'T',\n",
       " 'U',\n",
       " 'V',\n",
       " 'W',\n",
       " 'X',\n",
       " 'Y',\n",
       " 'Z',\n",
       " '[',\n",
       " ']',\n",
       " 'a',\n",
       " 'b',\n",
       " 'c',\n",
       " 'd',\n",
       " 'e',\n",
       " 'f',\n",
       " 'g',\n",
       " 'h',\n",
       " 'i',\n",
       " 'j',\n",
       " 'k',\n",
       " 'l',\n",
       " 'm',\n",
       " 'n',\n",
       " 'o',\n",
       " 'p',\n",
       " 'q',\n",
       " 'r',\n",
       " 's',\n",
       " 't',\n",
       " 'u',\n",
       " 'v',\n",
       " 'w',\n",
       " 'x',\n",
       " 'y',\n",
       " 'z']"
      ]
     },
     "execution_count": 3,
     "metadata": {},
     "output_type": "execute_result"
    }
   ],
   "source": [
    "sorted(set(list(data)))"
   ]
  },
  {
   "cell_type": "code",
   "execution_count": 4,
   "metadata": {},
   "outputs": [
    {
     "name": "stdout",
     "output_type": "stream",
     "text": [
      "5774\n"
     ]
    }
   ],
   "source": [
    "import re\n",
    "\n",
    "data = re.sub(r'!\"(),-:;<>?', '.', data)\n",
    "data = word_tokenize(data)\n",
    "data = [word.lower() for word in data if word.isalpha() or word == '.']\n",
    "data = list(set(data))\n",
    "\n",
    "print(len(data))"
   ]
  },
  {
   "cell_type": "code",
   "execution_count": 5,
   "metadata": {},
   "outputs": [],
   "source": [
    "word2ind = {word: i for i, word in enumerate(data)}\n",
    "ind2word = {i: word for i, word in enumerate(data)}"
   ]
  },
  {
   "cell_type": "code",
   "execution_count": 6,
   "metadata": {},
   "outputs": [
    {
     "name": "stdout",
     "output_type": "stream",
     "text": [
      "Vocabulary size: 5774\n"
     ]
    }
   ],
   "source": [
    "V = len(word2ind)\n",
    "print(f'Vocabulary size: {V}')"
   ]
  },
  {
   "cell_type": "code",
   "execution_count": 7,
   "metadata": {},
   "outputs": [],
   "source": [
    "import torch\n",
    "import torch.nn as nn\n",
    "import torch.optim as optim\n",
    "\n",
    "class CBOW(nn.Module):\n",
    "    def __init__(self, input_dim, hidden_dim):\n",
    "        super(CBOW, self).__init__()\n",
    "        self.linear1 = nn.Linear(input_dim, hidden_dim, bias=False)\n",
    "        self.linear2 = nn.Linear(hidden_dim, input_dim)\n",
    "        # no need of softmax since cross entropy loss does it internally\n",
    "\n",
    "    def forward(self, x):\n",
    "        x = self.linear1(x)\n",
    "        x = self.linear2(x)\n",
    "        return x\n",
    "\n",
    "    def get_word_embedding(self, word_idx):\n",
    "        return self.linear1.weight[word_idx]"
   ]
  },
  {
   "cell_type": "code",
   "execution_count": 8,
   "metadata": {},
   "outputs": [],
   "source": [
    "def get_data(words_data, context_size):\n",
    "    input_data = []\n",
    "    for i in range(context_size, len(words_data) - context_size):\n",
    "        target = words_data[i]\n",
    "        context = []\n",
    "        for j in range(i-context_size, i):\n",
    "            context.append(words_data[j])\n",
    "        for j in range(i+1, i+context_size+1):\n",
    "            context.append(words_data[j])\n",
    "        input_data.append((context, target))\n",
    "    return input_data"
   ]
  },
  {
   "cell_type": "code",
   "execution_count": 9,
   "metadata": {},
   "outputs": [],
   "source": [
    "def convert_to_ids(words_data, context_size):\n",
    "    input_data = get_data(words_data, context_size)\n",
    "    \n",
    "    train_data = []\n",
    "    target_data = []\n",
    "\n",
    "    for context, target in input_data:\n",
    "        train_tensor = torch.zeros(V)\n",
    "        target_tensor = torch.zeros(1, dtype=torch.long) # assigned as a single vector and not one hot\n",
    "\n",
    "        for word in context:\n",
    "            train_tensor[word2ind[word]] += 1\n",
    "        target_tensor[0] = word2ind[target] # assign the index of the target word\n",
    "\n",
    "        train_tensor = train_tensor.view(1, -1)\n",
    "        \n",
    "        yield train_tensor, target_tensor"
   ]
  },
  {
   "cell_type": "code",
   "execution_count": 10,
   "metadata": {},
   "outputs": [
    {
     "name": "stdout",
     "output_type": "stream",
     "text": [
      "tensor([[1., 1., 0.,  ..., 0., 0., 0.]])\n",
      "tensor([2])\n",
      "tensor([[0., 1., 1.,  ..., 0., 0., 0.]])\n",
      "tensor([3])\n",
      "tensor([[0., 0., 1.,  ..., 0., 0., 0.]])\n",
      "tensor([4])\n"
     ]
    }
   ],
   "source": [
    "for train_tensor, target_tensor in convert_to_ids(data[:7], 2):\n",
    "    print(train_tensor)\n",
    "    print(target_tensor)"
   ]
  },
  {
   "cell_type": "code",
   "execution_count": 11,
   "metadata": {},
   "outputs": [],
   "source": [
    "hidden_dim = 5\n",
    "\n",
    "model = CBOW(V, hidden_dim)\n",
    "\n",
    "criterion = nn.CrossEntropyLoss()\n",
    "optimizer = optim.SGD(model.parameters(), lr=0.01)"
   ]
  },
  {
   "cell_type": "code",
   "execution_count": 12,
   "metadata": {},
   "outputs": [
    {
     "name": "stdout",
     "output_type": "stream",
     "text": [
      "Epoch 10, loss: 8.5710\n",
      "Epoch 20, loss: 8.2875\n",
      "Epoch 30, loss: 7.9491\n",
      "Epoch 40, loss: 7.5370\n",
      "Epoch 50, loss: 7.0691\n",
      "Epoch 60, loss: 6.6069\n",
      "Epoch 70, loss: 6.2087\n",
      "Epoch 80, loss: 5.8793\n",
      "Epoch 90, loss: 5.5986\n",
      "Epoch 100, loss: 5.3495\n",
      "Epoch 110, loss: 5.1220\n",
      "Epoch 120, loss: 4.9112\n",
      "Epoch 130, loss: 4.7150\n",
      "Epoch 140, loss: 4.5324\n",
      "Epoch 150, loss: 4.3628\n",
      "Epoch 160, loss: 4.2057\n",
      "Epoch 170, loss: 4.0610\n",
      "Epoch 180, loss: 3.9283\n",
      "Epoch 190, loss: 3.8066\n",
      "Epoch 200, loss: 3.6950\n",
      "Epoch 210, loss: 3.5925\n",
      "Epoch 220, loss: 3.4981\n",
      "Epoch 230, loss: 3.4110\n",
      "Epoch 240, loss: 3.3302\n",
      "Epoch 250, loss: 3.2554\n",
      "Epoch 260, loss: 3.1858\n",
      "Epoch 270, loss: 3.1208\n",
      "Epoch 280, loss: 3.0600\n",
      "Epoch 290, loss: 3.0030\n",
      "Epoch 300, loss: 2.9495\n",
      "Epoch 310, loss: 2.8990\n",
      "Epoch 320, loss: 2.8513\n",
      "Epoch 330, loss: 2.8060\n",
      "Epoch 340, loss: 2.7630\n",
      "Epoch 350, loss: 2.7219\n",
      "Epoch 360, loss: 2.6825\n",
      "Epoch 370, loss: 2.6447\n",
      "Epoch 380, loss: 2.6082\n",
      "Epoch 390, loss: 2.5728\n",
      "Epoch 400, loss: 2.5384\n",
      "Epoch 410, loss: 2.5048\n",
      "Epoch 420, loss: 2.4718\n",
      "Epoch 430, loss: 2.4394\n",
      "Epoch 440, loss: 2.4072\n",
      "Epoch 450, loss: 2.3754\n",
      "Epoch 460, loss: 2.3436\n",
      "Epoch 470, loss: 2.3118\n",
      "Epoch 480, loss: 2.2798\n",
      "Epoch 490, loss: 2.2476\n",
      "Epoch 500, loss: 2.2150\n",
      "Epoch 510, loss: 2.1821\n",
      "Epoch 520, loss: 2.1486\n",
      "Epoch 530, loss: 2.1146\n",
      "Epoch 540, loss: 2.0801\n",
      "Epoch 550, loss: 2.0449\n",
      "Epoch 560, loss: 2.0091\n",
      "Epoch 570, loss: 1.9727\n",
      "Epoch 580, loss: 1.9356\n",
      "Epoch 590, loss: 1.8977\n",
      "Epoch 600, loss: 1.8592\n",
      "Epoch 610, loss: 1.8200\n",
      "Epoch 620, loss: 1.7800\n",
      "Epoch 630, loss: 1.7393\n",
      "Epoch 640, loss: 1.6977\n",
      "Epoch 650, loss: 1.6554\n",
      "Epoch 660, loss: 1.6123\n",
      "Epoch 670, loss: 1.5683\n",
      "Epoch 680, loss: 1.5235\n",
      "Epoch 690, loss: 1.4778\n",
      "Epoch 700, loss: 1.4314\n",
      "Epoch 710, loss: 1.3842\n",
      "Epoch 720, loss: 1.3364\n",
      "Epoch 730, loss: 1.2880\n",
      "Epoch 740, loss: 1.2393\n",
      "Epoch 750, loss: 1.1904\n",
      "Epoch 760, loss: 1.1416\n",
      "Epoch 770, loss: 1.0932\n",
      "Epoch 780, loss: 1.0456\n",
      "Epoch 790, loss: 0.9989\n",
      "Epoch 800, loss: 0.9536\n",
      "Epoch 810, loss: 0.9099\n",
      "Epoch 820, loss: 0.8679\n",
      "Epoch 830, loss: 0.8278\n",
      "Epoch 840, loss: 0.7898\n",
      "Epoch 850, loss: 0.7538\n",
      "Epoch 860, loss: 0.7198\n",
      "Epoch 870, loss: 0.6879\n",
      "Epoch 880, loss: 0.6578\n",
      "Epoch 890, loss: 0.6296\n",
      "Epoch 900, loss: 0.6031\n",
      "Epoch 910, loss: 0.5782\n",
      "Epoch 920, loss: 0.5548\n",
      "Epoch 930, loss: 0.5329\n",
      "Epoch 940, loss: 0.5123\n",
      "Epoch 950, loss: 0.4929\n",
      "Epoch 960, loss: 0.4746\n",
      "Epoch 970, loss: 0.4574\n",
      "Epoch 980, loss: 0.4412\n",
      "Epoch 990, loss: 0.4260\n",
      "Epoch 1000, loss: 0.4115\n",
      "Epoch 1010, loss: 0.3979\n",
      "Epoch 1020, loss: 0.3851\n",
      "Epoch 1030, loss: 0.3729\n",
      "Epoch 1040, loss: 0.3614\n",
      "Epoch 1050, loss: 0.3504\n",
      "Epoch 1060, loss: 0.3401\n",
      "Epoch 1070, loss: 0.3303\n",
      "Epoch 1080, loss: 0.3209\n",
      "Epoch 1090, loss: 0.3120\n",
      "Epoch 1100, loss: 0.3036\n",
      "Epoch 1110, loss: 0.2956\n",
      "Epoch 1120, loss: 0.2879\n",
      "Epoch 1130, loss: 0.2806\n",
      "Epoch 1140, loss: 0.2736\n",
      "Epoch 1150, loss: 0.2670\n",
      "Epoch 1160, loss: 0.2606\n",
      "Epoch 1170, loss: 0.2545\n",
      "Epoch 1180, loss: 0.2487\n",
      "Epoch 1190, loss: 0.2431\n",
      "Epoch 1200, loss: 0.2377\n",
      "Epoch 1210, loss: 0.2325\n",
      "Epoch 1220, loss: 0.2276\n",
      "Epoch 1230, loss: 0.2228\n",
      "Epoch 1240, loss: 0.2183\n",
      "Epoch 1250, loss: 0.2139\n",
      "Epoch 1260, loss: 0.2096\n",
      "Epoch 1270, loss: 0.2055\n",
      "Epoch 1280, loss: 0.2016\n",
      "Epoch 1290, loss: 0.1978\n",
      "Epoch 1300, loss: 0.1941\n",
      "Epoch 1310, loss: 0.1906\n",
      "Epoch 1320, loss: 0.1871\n",
      "Epoch 1330, loss: 0.1838\n",
      "Epoch 1340, loss: 0.1806\n",
      "Epoch 1350, loss: 0.1775\n",
      "Epoch 1360, loss: 0.1745\n",
      "Epoch 1370, loss: 0.1716\n",
      "Epoch 1380, loss: 0.1687\n",
      "Epoch 1390, loss: 0.1660\n",
      "Epoch 1400, loss: 0.1633\n",
      "Epoch 1410, loss: 0.1607\n",
      "Epoch 1420, loss: 0.1582\n",
      "Epoch 1430, loss: 0.1557\n",
      "Epoch 1440, loss: 0.1533\n",
      "Epoch 1450, loss: 0.1510\n",
      "Epoch 1460, loss: 0.1488\n",
      "Epoch 1470, loss: 0.1466\n",
      "Epoch 1480, loss: 0.1444\n",
      "Epoch 1490, loss: 0.1424\n",
      "Epoch 1500, loss: 0.1403\n"
     ]
    }
   ],
   "source": [
    "epochs = 1500\n",
    "\n",
    "epoch_losses = {}\n",
    "\n",
    "for epoch in range(epochs):\n",
    "    \n",
    "    losses = []\n",
    "    \n",
    "    for X, y in convert_to_ids(data, 2):\n",
    "        outputs = model(X)\n",
    "        loss = criterion(outputs, y)\n",
    "        losses.append(loss.item())\n",
    "    \n",
    "        optimizer.zero_grad()\n",
    "        loss.backward()\n",
    "        optimizer.step()\n",
    "        \n",
    "    epoch_losses[epoch] = np.mean(losses)\n",
    "    \n",
    "    if (epoch + 1) % 10 == 0:\n",
    "        print(f'Epoch {epoch+1}, loss: {loss.item():.4f}')"
   ]
  },
  {
   "cell_type": "code",
   "execution_count": 13,
   "metadata": {},
   "outputs": [
    {
     "data": {
      "text/plain": [
       "<matplotlib.legend.Legend at 0x1775f91c0>"
      ]
     },
     "execution_count": 13,
     "metadata": {},
     "output_type": "execute_result"
    },
    {
     "data": {
      "image/png": "[encoded data removed]",
      "text/plain": [
       "<Figure size 640x480 with 1 Axes>"
      ]
     },
     "metadata": {},
     "output_type": "display_data"
    }
   ],
   "source": [
    "import matplotlib.pyplot as plt\n",
    "\n",
    "epochs_range = np.arange(1, 1020 + 1)\n",
    "loss_values = [epoch_losses[e] for e in epochs_range - 1]\n",
    "\n",
    "fig = plt.figure()\n",
    "fig.suptitle('Epoch/Losses', fontsize=20)\n",
    "plt.plot(epochs_range, loss_values, label=\"Training Loss\")\n",
    "plt.xlabel('Epochs', fontsize=12)\n",
    "plt.ylabel('Losses', fontsize=12)\n",
    "plt.legend()"
   ]
  },
  {
   "cell_type": "code",
   "execution_count": 14,
   "metadata": {},
   "outputs": [
    {
     "name": "stdout",
     "output_type": "stream",
     "text": [
      "Learned weights from the CBOW model:\n",
      "\n",
      "linear1.weight \t torch.Size([5, 5774])\n",
      "linear2.weight \t torch.Size([5774, 5])\n",
      "linear2.bias \t torch.Size([5774])\n"
     ]
    }
   ],
   "source": [
    "print('Learned weights from the CBOW model:\\n')\n",
    "\n",
    "for param_tensor in model.state_dict():\n",
    "    print(param_tensor, \"\\t\", model.state_dict()[param_tensor].size())"
   ]
  },
  {
   "cell_type": "code",
   "execution_count": 15,
   "metadata": {},
   "outputs": [
    {
     "name": "stdout",
     "output_type": "stream",
     "text": [
      "Optimizer's state_dict:\n",
      "\n",
      "state \t {}\n",
      "param_groups \t [{'lr': 0.01, 'momentum': 0, 'dampening': 0, 'weight_decay': 0, 'nesterov': False, 'maximize': False, 'foreach': None, 'differentiable': False, 'fused': None, 'params': [0, 1, 2]}]\n"
     ]
    }
   ],
   "source": [
    "print(\"Optimizer's state_dict:\\n\")\n",
    "for var_name in optimizer.state_dict():\n",
    "    print(var_name, \"\\t\", optimizer.state_dict()[var_name])"
   ]
  },
  {
   "cell_type": "code",
   "execution_count": 16,
   "metadata": {},
   "outputs": [],
   "source": [
    "torch.save(model.state_dict(), 'cbow.pth')"
   ]
  },
  {
   "cell_type": "code",
   "execution_count": 18,
   "metadata": {},
   "outputs": [],
   "source": [
    "# exporting the index map\n",
    "import pickle\n",
    "\n",
    "with open('word2ind_map.pkl', 'wb') as file:\n",
    "    pickle.dump(word2ind, file)\n",
    "with open('ind2word_map.pkl', 'wb') as file:\n",
    "    pickle.dump(ind2word, file)"
   ]
  },
  {
   "cell_type": "code",
   "execution_count": null,
   "metadata": {},
   "outputs": [],
   "source": []
  }
 ],
 "metadata": {
  "kernelspec": {
   "display_name": "Python 3 (ipykernel)",
   "language": "python",
   "name": "python3"
  },
  "language_info": {
   "codemirror_mode": {
    "name": "ipython",
    "version": 3
   },
   "file_extension": ".py",
   "mimetype": "text/x-python",
   "name": "python",
   "nbconvert_exporter": "python",
   "pygments_lexer": "ipython3",
   "version": "3.12.7"
  }
 },
 "nbformat": 4,
 "nbformat_minor": 4
}
